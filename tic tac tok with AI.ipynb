{
  "nbformat": 4,
  "nbformat_minor": 0,
  "metadata": {
    "colab": {
      "provenance": [],
      "authorship_tag": "ABX9TyM13WPY+BJanI0uUlQ9IECj",
      "include_colab_link": true
    },
    "kernelspec": {
      "name": "python3",
      "display_name": "Python 3"
    },
    "language_info": {
      "name": "python"
    }
  },
  "cells": [
    {
      "cell_type": "markdown",
      "metadata": {
        "id": "view-in-github",
        "colab_type": "text"
      },
      "source": [
        "<a href=\"https://colab.research.google.com/github/Bichesq/Staticwebproject/blob/master/tic%20tac%20tok%20with%20AI.ipynb\" target=\"_parent\"><img src=\"https://colab.research.google.com/assets/colab-badge.svg\" alt=\"Open In Colab\"/></a>"
      ]
    },
    {
      "cell_type": "code",
      "execution_count": null,
      "metadata": {
        "id": "y9DSPTYgTqiS"
      },
      "outputs": [],
      "source": [
        "def main():\n",
        "  choice = input(\"Enter 1 for Single player and 2 for two players: \");\n",
        "  choice = int(choice);\n",
        "  board = [0, 0, 0, 0, 0, 0, 0, 0, 0];\n",
        "  if choice == 1:\n",
        "    print(\"Computer: O vs You: X\");\n",
        "    player = input(\"Enter 1(st) or 2(nd): \");\n",
        "    player = int(player);\n",
        "    for i in range(0, 9):\n",
        "      if analyse_board(board) != 0:\n",
        "        break;\n",
        "      if (i + player)%2 == 0:\n",
        "        comp_turn(board);\n",
        "      else:\n",
        "        game_state(board);\n",
        "        user1_turn(board);\n",
        "  else:\n",
        "    for i in range(0, 9):\n",
        "      if analyse_board(board) != 0:\n",
        "        break;\n",
        "      if  i % 2 == 0:\n",
        "        game_state(board);\n",
        "        user1_turn(board);\n",
        "      else:\n",
        "        game_state(board);\n",
        "        user2_turn(board);\n",
        "\n",
        "  x = analyse_board(board)\n",
        "  if x == 0:\n",
        "    game_state(board);\n",
        "    print(\"Draw!\")\n",
        "\n",
        "  if x == 1:\n",
        "    game_state(board);\n",
        "    print(\"X wins; O loses\")\n",
        "\n",
        "  if x == 0:\n",
        "    game_state(board);\n",
        "    print(\"O loses; X \")"
      ]
    }
  ]
}